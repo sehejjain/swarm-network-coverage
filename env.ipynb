{
 "cells": [
  {
   "cell_type": "code",
   "execution_count": 1,
   "metadata": {},
   "outputs": [
    {
     "data": {
      "text/plain": [
       "<contextlib.ExitStack at 0x7fa53cd79f10>"
      ]
     },
     "execution_count": 1,
     "metadata": {},
     "output_type": "execute_result"
    }
   ],
   "source": [
    "import gymnasium as gym\n",
    "import pygame\n",
    "from shapely.geometry import Point, Polygon\n",
    "import matplotlib.pyplot as plt\n",
    "from matplotlib.animation import FuncAnimation\n",
    "from IPython.display import HTML\n",
    "import shapely.plotting\n",
    "import numpy as np\n",
    "# import geopandas as gpd\n",
    "import random\n",
    "import io\n",
    "import PIL\n",
    "import tqdm\n",
    "\n",
    "from gymnasium.wrappers import FlattenObservation, FilterObservation\n",
    "\n",
    "from stable_baselines3.common.env_checker import check_env\n",
    "from stable_baselines3 import DQN, PPO, A2C\n",
    "from stable_baselines3.common.env_util import make_vec_env\n",
    "\n",
    "from env import NetworkEnv\n",
    "\n",
    "plt.ioff()"
   ]
  },
  {
   "cell_type": "code",
   "execution_count": 2,
   "metadata": {},
   "outputs": [],
   "source": [
    "x_max = y_max = 100"
   ]
  },
  {
   "cell_type": "code",
   "execution_count": 3,
   "metadata": {},
   "outputs": [],
   "source": [
    "def display_video_random(model, env, steps=1000):\n",
    "    frames = []  # To store frames\n",
    "\n",
    "    obs, _ = env.reset()\n",
    "    # env.robots = np.random.randint(0, 100, (8, 2))\n",
    "    rew = []\n",
    "\n",
    "    t1 = t2 = False\n",
    "    # while not t1 and not t2:\n",
    "    for i in tqdm.trange(steps):\n",
    "        frame = env.render()\n",
    "        # plt.imshow(frame)\n",
    "        # plt.axis('off')\n",
    "        # plt.show()\n",
    "        # break\n",
    "        frames.append(frame)\n",
    "        action, _ = model.predict(obs)\n",
    "        obs, a, t1, t2, _ = env.step(action)\n",
    "        \n",
    "        rew.append(a)\n",
    "        if t1 or t2:\n",
    "            break\n",
    "    env.close()\n",
    "\n",
    "    # Plotting setup\n",
    "    fig, ax = plt.subplots()\n",
    "    ax.axis(\"off\")  # No axes for video display\n",
    "    im = ax.imshow(frames[0])\n",
    "\n",
    "    # Update function for animation\n",
    "    def update(frame):\n",
    "        im.set_data(frame)\n",
    "        return [im]\n",
    "\n",
    "    # Create animation\n",
    "    ani = FuncAnimation(fig, update, frames=frames, blit=True)\n",
    "    plt.close()  # Prevents an additional empty plot from displaying\n",
    "    \n",
    "    print(f\"Total reward: {sum(rew)}\")\n",
    "    return ani.to_jshtml(), rew"
   ]
  },
  {
   "cell_type": "code",
   "execution_count": 4,
   "metadata": {},
   "outputs": [
    {
     "name": "stderr",
     "output_type": "stream",
     "text": [
      "/common/home/sj1030/miniconda3/envs/rl/lib/python3.9/site-packages/stable_baselines3/common/env_checker.py:263: UserWarning: Your observation robots has an unconventional shape (neither an image, nor a 1D vector). We recommend you to flatten the observation to have only a 1D vector or use a custom policy to properly process the data.\n",
      "  warnings.warn(\n"
     ]
    }
   ],
   "source": [
    "env = NetworkEnv(8, (0, x_max), (0, y_max), step=1, radius=20, render_mode=\"rgb_array\")\n",
    "check_env(env)"
   ]
  },
  {
   "cell_type": "code",
   "execution_count": 5,
   "metadata": {},
   "outputs": [],
   "source": [
    "n_envs = 10\n",
    "n = 8\n",
    "x_min = 0\n",
    "x_max = 100\n",
    "y_min = 0\n",
    "y_max = 100\n",
    "step = 1\n",
    "radius = 20\n",
    "render_mode = \"rgb_array\"\n",
    "max_ep_len = 5000\n",
    "bonus_threshold = 0.9\n",
    "bonus_reward = 1000\n",
    "overlap_threshold = 0.1"
   ]
  },
  {
   "cell_type": "code",
   "execution_count": 6,
   "metadata": {},
   "outputs": [],
   "source": [
    "def get_env(train=False):\n",
    "    return NetworkEnv(\n",
    "    n,\n",
    "    (x_min, x_max),\n",
    "    (y_min, y_max),\n",
    "    step=step,\n",
    "    radius=radius,\n",
    "    render_mode=render_mode,\n",
    "    max_ep_len=max_ep_len,\n",
    "    bonus_threshold=bonus_threshold,\n",
    "    bonus_reward=bonus_reward,\n",
    "    overlap_threshold=overlap_threshold,\n",
    "    train=train\n",
    ")"
   ]
  },
  {
   "cell_type": "code",
   "execution_count": 7,
   "metadata": {},
   "outputs": [],
   "source": [
    "env = get_env(train=True)"
   ]
  },
  {
   "cell_type": "code",
   "execution_count": 8,
   "metadata": {},
   "outputs": [],
   "source": [
    "# env.render()"
   ]
  },
  {
   "cell_type": "code",
   "execution_count": null,
   "metadata": {},
   "outputs": [],
   "source": [
    "env = make_vec_env(get_env, n_envs=10)"
   ]
  },
  {
   "cell_type": "code",
   "execution_count": null,
   "metadata": {},
   "outputs": [],
   "source": [
    "env.num_envs"
   ]
  },
  {
   "cell_type": "code",
   "execution_count": null,
   "metadata": {},
   "outputs": [],
   "source": [
    "# env.reset()\n",
    "# frame = env.render()\n",
    "# plt.imshow(frame)\n",
    "# plt.show()\n",
    "# plt.axis('off')"
   ]
  },
  {
   "cell_type": "code",
   "execution_count": null,
   "metadata": {},
   "outputs": [],
   "source": [
    "from stable_baselines3.common.callbacks import BaseCallback\n",
    "from stable_baselines3.common.logger import Logger\n",
    "\n",
    "\n",
    "class EpisodicRewardLogger(BaseCallback):\n",
    "    def __init__(self, verbose=0):\n",
    "        super(EpisodicRewardLogger, self).__init__(verbose)\n",
    "        self.episodic_rewards = []\n",
    "        self.ep_len = []\n",
    "        self.infos = []\n",
    "\n",
    "    def _on_step(self) -> bool:\n",
    "        # print(self.locals)\n",
    "        self.infos.append(self.locals)\n",
    "        info = self.locals[\"infos\"][0]\n",
    "        # print(info)\n",
    "        if \"episode\" in info:\n",
    "            self.episodic_rewards.append(info[\"episode\"][\"r\"])\n",
    "            self.ep_len.append(info[\"episode\"][\"l\"])\n",
    "        return True\n",
    "        # # Retrieve the latest ep_rew_mean from the logger\n",
    "        # latest_ep_rew_mean = self.logger.get_log_dict().get('rollout/ep_rew_mean', None)\n",
    "        # latest_ep_len_mean = self.logger.get_log_dict().get('rollout/ep_len_mean', None)\n",
    "        # if latest_ep_rew_mean is not None:\n",
    "        #     self.episodic_rewards.append(latest_ep_rew_mean)\n",
    "        # return True"
   ]
  },
  {
   "cell_type": "code",
   "execution_count": null,
   "metadata": {},
   "outputs": [],
   "source": [
    "model1 = PPO(\"MultiInputPolicy\", env, verbose=0)#, tensorboard_log=\"tensorboard_logs/\")\n",
    "model1.learn(\n",
    "    total_timesteps=100,\n",
    "    # callback=EpisodicRewardLogger(),\n",
    "    # tb_log_name=\"ppo1\",\n",
    "    progress_bar=True,\n",
    "    reset_num_timesteps=False,\n",
    ")\n",
    "\n",
    "# model1.save(\"ppo1\")"
   ]
  },
  {
   "cell_type": "code",
   "execution_count": null,
   "metadata": {},
   "outputs": [],
   "source": []
  },
  {
   "cell_type": "code",
   "execution_count": null,
   "metadata": {},
   "outputs": [],
   "source": [
    "model1 = PPO(\"MultiInputPolicy\", env, verbose=0, tensorboard_log=\"tensorboard_logs/\")\n",
    "model1.load(\"logs/best_model/best_model\")"
   ]
  },
  {
   "cell_type": "code",
   "execution_count": null,
   "metadata": {},
   "outputs": [],
   "source": [
    "import matplotlib\n",
    "matplotlib.rcParams['animation.embed_limit'] = 2**128"
   ]
  },
  {
   "cell_type": "code",
   "execution_count": null,
   "metadata": {},
   "outputs": [],
   "source": [
    "a, rew = display_video_random(model1, get_env(train=False), steps=10000)\n",
    "HTML(a)"
   ]
  },
  {
   "cell_type": "code",
   "execution_count": null,
   "metadata": {},
   "outputs": [],
   "source": [
    "plt.plot(rew)"
   ]
  },
  {
   "cell_type": "code",
   "execution_count": null,
   "metadata": {},
   "outputs": [],
   "source": [
    "./logs/best_model"
   ]
  },
  {
   "cell_type": "code",
   "execution_count": null,
   "metadata": {},
   "outputs": [],
   "source": [
    "print(env.num_envs)\n",
    "model2 = PPO(\"MultiInputPolicy\", env, verbose=0, tensorboard_log=\"tensorboard_logs/\")\n",
    "model2.learn(\n",
    "    total_timesteps=1000,\n",
    "    callback=EpisodicRewardLogger(),\n",
    "    tb_log_name=\"ppo1\",\n",
    "    progress_bar=True,\n",
    "    reset_num_timesteps=False,\n",
    ")\n",
    "\n",
    "model1.save(\"ppo1\")"
   ]
  },
  {
   "cell_type": "code",
   "execution_count": null,
   "metadata": {},
   "outputs": [],
   "source": []
  },
  {
   "cell_type": "code",
   "execution_count": null,
   "metadata": {},
   "outputs": [],
   "source": [
    "model1.predict(env.reset()[0])"
   ]
  },
  {
   "cell_type": "code",
   "execution_count": null,
   "metadata": {},
   "outputs": [],
   "source": []
  },
  {
   "cell_type": "code",
   "execution_count": null,
   "metadata": {},
   "outputs": [],
   "source": [
    "env.observation_space().sample(), env.action_space().sample()"
   ]
  },
  {
   "cell_type": "code",
   "execution_count": null,
   "metadata": {},
   "outputs": [],
   "source": [
    "env.robots = np.array([[1, 1], [2, 2], [3, 3]])\n",
    "env.render()"
   ]
  },
  {
   "cell_type": "code",
   "execution_count": null,
   "metadata": {},
   "outputs": [],
   "source": [
    "random.randint(0, 9)"
   ]
  },
  {
   "cell_type": "code",
   "execution_count": 53,
   "metadata": {},
   "outputs": [
    {
     "data": {
      "text/plain": [
       "('reward 1.6584750952905511',\n",
       " 'area 6642.482216541031',\n",
       " 'contiguous True',\n",
       " 'ratio 0.6642482216541031')"
      ]
     },
     "execution_count": 53,
     "metadata": {},
     "output_type": "execute_result"
    },
    {
     "data": {
      "image/png": "[encoded data removed]",
      "text/plain": [
       "<Figure size 640x480 with 1 Axes>"
      ]
     },
     "metadata": {},
     "output_type": "display_data"
    }
   ],
   "source": [
    "env.reset()\n",
    "plt.imshow(env.render())\n",
    "plt.axis('off')\n",
    "a, b, c, d, e = env.get_reward()\n",
    "\"reward \"+str(a), \"area \"+str(c.area), \"contiguous \"+str(d), \"ratio \"+str(e)"
   ]
  },
  {
   "cell_type": "code",
   "execution_count": 21,
   "metadata": {},
   "outputs": [
    {
     "data": {
      "text/plain": [
       "shapely.geometry.multipolygon.MultiPolygon"
      ]
     },
     "execution_count": 21,
     "metadata": {},
     "output_type": "execute_result"
    }
   ],
   "source": [
    "c"
   ]
  },
  {
   "cell_type": "code",
   "execution_count": 25,
   "metadata": {},
   "outputs": [
    {
     "ename": "AttributeError",
     "evalue": "'Polygon' object has no attribute 'geoms'",
     "output_type": "error",
     "traceback": [
      "\u001b[0;31m---------------------------------------------------------------------------\u001b[0m",
      "\u001b[0;31mAttributeError\u001b[0m                            Traceback (most recent call last)",
      "Cell \u001b[0;32mIn[25], line 1\u001b[0m\n\u001b[0;32m----> 1\u001b[0m \u001b[38;5;28;43mlist\u001b[39;49m\u001b[43m(\u001b[49m\u001b[43mc\u001b[49m\u001b[38;5;241;43m.\u001b[39;49m\u001b[43mgeoms\u001b[49m\u001b[43m)\u001b[49m\u001b[43m[\u001b[49m\u001b[38;5;241;43m0\u001b[39;49m\u001b[43m]\u001b[49m\u001b[38;5;241;43m.\u001b[39;49m\u001b[43mgeoms\u001b[49m\n",
      "\u001b[0;31mAttributeError\u001b[0m: 'Polygon' object has no attribute 'geoms'"
     ]
    }
   ],
   "source": [
    "list(c.geoms)[0].geoms"
   ]
  },
  {
   "cell_type": "code",
   "execution_count": null,
   "metadata": {},
   "outputs": [],
   "source": []
  }
 ],
 "metadata": {
  "kernelspec": {
   "display_name": "rl",
   "language": "python",
   "name": "python3"
  },
  "language_info": {
   "codemirror_mode": {
    "name": "ipython",
    "version": 3
   },
   "file_extension": ".py",
   "mimetype": "text/x-python",
   "name": "python",
   "nbconvert_exporter": "python",
   "pygments_lexer": "ipython3",
   "version": "3.9.19"
  }
 },
 "nbformat": 4,
 "nbformat_minor": 2
}
